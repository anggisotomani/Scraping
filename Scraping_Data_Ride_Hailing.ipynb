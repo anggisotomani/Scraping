{
  "nbformat": 4,
  "nbformat_minor": 0,
  "metadata": {
    "colab": {
      "provenance": [],
      "gpuType": "V28",
      "authorship_tag": "ABX9TyMywvEMRznfMY5wJA9fKCxZ",
      "include_colab_link": true
    },
    "kernelspec": {
      "name": "python3",
      "display_name": "Python 3"
    },
    "language_info": {
      "name": "python"
    },
    "accelerator": "TPU"
  },
  "cells": [
    {
      "cell_type": "markdown",
      "metadata": {
        "id": "view-in-github",
        "colab_type": "text"
      },
      "source": [
        "<a href=\"https://colab.research.google.com/github/anggisotomani/Scraping/blob/main/Scraping_Data_Ride_Hailing.ipynb\" target=\"_parent\"><img src=\"https://colab.research.google.com/assets/colab-badge.svg\" alt=\"Open In Colab\"/></a>"
      ]
    },
    {
      "cell_type": "code",
      "execution_count": 1,
      "metadata": {
        "colab": {
          "base_uri": "https://localhost:8080/"
        },
        "id": "0nPuHQjD_-5Q",
        "outputId": "74912383-681f-462f-e6bd-80fb86f3bf3a"
      },
      "outputs": [
        {
          "output_type": "stream",
          "name": "stdout",
          "text": [
            "Collecting google-play-scraper\n",
            "  Downloading google_play_scraper-1.2.7-py3-none-any.whl.metadata (50 kB)\n",
            "\u001b[2K     \u001b[90m━━━━━━━━━━━━━━━━━━━━━━━━━━━━━━━━━━━━━━━\u001b[0m \u001b[32m50.2/50.2 kB\u001b[0m \u001b[31m441.3 kB/s\u001b[0m eta \u001b[36m0:00:00\u001b[0m\n",
            "\u001b[?25hDownloading google_play_scraper-1.2.7-py3-none-any.whl (28 kB)\n",
            "Installing collected packages: google-play-scraper\n",
            "Successfully installed google-play-scraper-1.2.7\n"
          ]
        }
      ],
      "source": [
        "!pip install google-play-scraper"
      ]
    },
    {
      "cell_type": "code",
      "source": [
        "#Import Library\n",
        "from google_play_scraper import reviews, Sort\n",
        "import pandas as pd\n",
        "import numpy as np"
      ],
      "metadata": {
        "id": "adVh9g2MAG36"
      },
      "execution_count": 2,
      "outputs": []
    },
    {
      "cell_type": "code",
      "source": [
        "# Fungsi untuk scraping data ulasan\n",
        "def scrape_reviews(app_id, app_name):\n",
        "    result, _ = reviews(\n",
        "        app_id,\n",
        "        lang='id',  # Bahasa Indonesia\n",
        "        country='id',  # Negara Indonesia\n",
        "        sort=Sort.NEWEST,  # Ulasan terbaru\n",
        "        count=50000,  # Jumlah ulasan\n",
        "        filter_score_with=None  # Semua skor\n",
        "    )\n",
        "    # Buat DataFrame dari hasil\n",
        "    df = pd.DataFrame(np.array(result), columns=['review'])\n",
        "    df = df.join(pd.DataFrame(df.pop('review').tolist()))\n",
        "    df = df[['userName', 'score','at', 'content']]\n",
        "    df['appName'] = app_name  # Tambahkan kolom nama aplikasi\n",
        "    return df"
      ],
      "metadata": {
        "id": "xGDcF_oyAz72"
      },
      "execution_count": 3,
      "outputs": []
    },
    {
      "cell_type": "code",
      "source": [
        "# Scraping data untuk Gojek\n",
        "gojek_df = scrape_reviews('com.gojek.app', 'Gojek')"
      ],
      "metadata": {
        "id": "z9CzacyvIOE8"
      },
      "execution_count": 4,
      "outputs": []
    },
    {
      "cell_type": "code",
      "source": [
        "gojek_df.info()"
      ],
      "metadata": {
        "colab": {
          "base_uri": "https://localhost:8080/"
        },
        "id": "C9LbE0pTNlqz",
        "outputId": "797e7a31-be73-4771-d86a-1bb5a22d93c5"
      },
      "execution_count": 5,
      "outputs": [
        {
          "output_type": "stream",
          "name": "stdout",
          "text": [
            "<class 'pandas.core.frame.DataFrame'>\n",
            "RangeIndex: 50000 entries, 0 to 49999\n",
            "Data columns (total 5 columns):\n",
            " #   Column    Non-Null Count  Dtype         \n",
            "---  ------    --------------  -----         \n",
            " 0   userName  50000 non-null  object        \n",
            " 1   score     50000 non-null  int64         \n",
            " 2   at        50000 non-null  datetime64[ns]\n",
            " 3   content   50000 non-null  object        \n",
            " 4   appName   50000 non-null  object        \n",
            "dtypes: datetime64[ns](1), int64(1), object(3)\n",
            "memory usage: 1.9+ MB\n"
          ]
        }
      ]
    },
    {
      "cell_type": "code",
      "source": [
        "# Scraping data untuk Grab\n",
        "grab_df = scrape_reviews('com.grabtaxi.passenger', 'Grab')"
      ],
      "metadata": {
        "id": "hYHk9rH2BB04"
      },
      "execution_count": 6,
      "outputs": []
    },
    {
      "cell_type": "code",
      "source": [
        "grab_df.info()"
      ],
      "metadata": {
        "colab": {
          "base_uri": "https://localhost:8080/"
        },
        "id": "Uv23dMi1Nf8x",
        "outputId": "d41d5e0a-2f6f-4485-e363-541f4ff35e64"
      },
      "execution_count": 7,
      "outputs": [
        {
          "output_type": "stream",
          "name": "stdout",
          "text": [
            "<class 'pandas.core.frame.DataFrame'>\n",
            "RangeIndex: 50000 entries, 0 to 49999\n",
            "Data columns (total 5 columns):\n",
            " #   Column    Non-Null Count  Dtype         \n",
            "---  ------    --------------  -----         \n",
            " 0   userName  50000 non-null  object        \n",
            " 1   score     50000 non-null  int64         \n",
            " 2   at        50000 non-null  datetime64[ns]\n",
            " 3   content   50000 non-null  object        \n",
            " 4   appName   50000 non-null  object        \n",
            "dtypes: datetime64[ns](1), int64(1), object(3)\n",
            "memory usage: 1.9+ MB\n"
          ]
        }
      ]
    },
    {
      "cell_type": "code",
      "source": [
        "# Scraping data untuk Maxim\n",
        "maxim_df = scrape_reviews('com.taxsee.taxsee', 'Maxim')"
      ],
      "metadata": {
        "id": "jsCnyJHqNx_f"
      },
      "execution_count": 8,
      "outputs": []
    },
    {
      "cell_type": "code",
      "source": [
        "maxim_df.info()"
      ],
      "metadata": {
        "colab": {
          "base_uri": "https://localhost:8080/"
        },
        "id": "cRRaR5d4OFkX",
        "outputId": "d9aa845e-5f03-4188-89f8-db4222954779"
      },
      "execution_count": 9,
      "outputs": [
        {
          "output_type": "stream",
          "name": "stdout",
          "text": [
            "<class 'pandas.core.frame.DataFrame'>\n",
            "RangeIndex: 50000 entries, 0 to 49999\n",
            "Data columns (total 5 columns):\n",
            " #   Column    Non-Null Count  Dtype         \n",
            "---  ------    --------------  -----         \n",
            " 0   userName  50000 non-null  object        \n",
            " 1   score     50000 non-null  int64         \n",
            " 2   at        50000 non-null  datetime64[ns]\n",
            " 3   content   50000 non-null  object        \n",
            " 4   appName   50000 non-null  object        \n",
            "dtypes: datetime64[ns](1), int64(1), object(3)\n",
            "memory usage: 1.9+ MB\n"
          ]
        }
      ]
    },
    {
      "cell_type": "code",
      "source": [
        "# Scraping data untuk inDrive\n",
        "indrive_df = scrape_reviews('sinet.startup.inDriver', 'inDrive')"
      ],
      "metadata": {
        "id": "952GHeFcA6nV"
      },
      "execution_count": 10,
      "outputs": []
    },
    {
      "cell_type": "code",
      "source": [
        "indrive_df.info()"
      ],
      "metadata": {
        "colab": {
          "base_uri": "https://localhost:8080/"
        },
        "id": "MwFF2CltNSDS",
        "outputId": "3e4722b8-d559-48d2-a838-f3a3a8541fb6"
      },
      "execution_count": 11,
      "outputs": [
        {
          "output_type": "stream",
          "name": "stdout",
          "text": [
            "<class 'pandas.core.frame.DataFrame'>\n",
            "RangeIndex: 50000 entries, 0 to 49999\n",
            "Data columns (total 5 columns):\n",
            " #   Column    Non-Null Count  Dtype         \n",
            "---  ------    --------------  -----         \n",
            " 0   userName  50000 non-null  object        \n",
            " 1   score     50000 non-null  int64         \n",
            " 2   at        50000 non-null  datetime64[ns]\n",
            " 3   content   50000 non-null  object        \n",
            " 4   appName   50000 non-null  object        \n",
            "dtypes: datetime64[ns](1), int64(1), object(3)\n",
            "memory usage: 1.9+ MB\n"
          ]
        }
      ]
    },
    {
      "cell_type": "code",
      "source": [
        "# Gabungkan kedua DataFrame\n",
        "combined_df = pd.concat([indrive_df, grab_df, gojek_df, maxim_df], ignore_index=True)"
      ],
      "metadata": {
        "id": "5zz71rT6BL2r"
      },
      "execution_count": 12,
      "outputs": []
    },
    {
      "cell_type": "code",
      "source": [
        "# Simpan ke file CSV\n",
        "combined_df.to_csv(\"Ridehailing_Dataset.csv\", index=False)\n",
        "\n",
        "print(\"Data berhasil disimpan ke Ridehailing_Dataset.csv\")"
      ],
      "metadata": {
        "colab": {
          "base_uri": "https://localhost:8080/"
        },
        "id": "VsRtk0nyBRVM",
        "outputId": "3e7f9007-632e-41dc-99a4-02813c189e14"
      },
      "execution_count": 13,
      "outputs": [
        {
          "output_type": "stream",
          "name": "stdout",
          "text": [
            "Data berhasil disimpan ke Ridehailing_Dataset.csv\n"
          ]
        }
      ]
    }
  ]
}